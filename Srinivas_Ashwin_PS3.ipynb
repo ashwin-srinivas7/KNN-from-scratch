{
 "cells": [
  {
   "cell_type": "markdown",
   "metadata": {},
   "source": [
    "# Problem Set 3 - Ashwin Srinivas\n",
    "\n",
    "### Before You Start\n",
    "\n",
    "Make sure the following libraries load correctly (hit Ctrl-Enter). Note that while you are loading several powerful libraries, including machine learning libraries, the goal of this problem set is to implement several algorithms from scratch. In particular, you should *not* be using any built-in libraries for nearest neighbors, distance metrics, or cross-validation -- your mission is to write those algorithms in Python! Parts 1 and 2 will be relatively easy; Part 3 will take more time.\n",
    "\n",
    "*Also note:* For this assignment we are requiring you to use base **matplotlib** - no more Seaborn or other packages. This will help you become familiar with techniques for maintaining fine-grained control over your data visualizations. It will also help our graders, who spent countless hours trying to make various versions import for grading."
   ]
  },
  {
   "cell_type": "code",
   "execution_count": 18,
   "metadata": {},
   "outputs": [],
   "source": [
    "import IPython\n",
    "import numpy as np\n",
    "import random\n",
    "import scipy as sp\n",
    "import pandas as pd\n",
    "import matplotlib\n",
    "import sklearn as sk\n",
    "from sklearn.model_selection import train_test_split\n",
    "import time"
   ]
  },
  {
   "cell_type": "markdown",
   "metadata": {},
   "source": [
    "---\n",
    "\n",
    "## Introduction to the assignment\n",
    "\n",
    "For this assignment, you will be using the Boston Housing Prices Data Set.  This used to be housed by [UCI Machine Learning Repository](http://archive.ics.uci.edu/ml/datasets/Housing), but it is not housed there any more. You can read about it at [Kaggle](https://www.kaggle.com/vikrishnan/boston-house-prices) and at the [University of Toronto](https://www.cs.toronto.edu/~delve/data/boston/bostonDetail.html). Please read about the dataset carefully before continuing.  Use the following commands to load the dataset:\n"
   ]
  },
  {
   "cell_type": "code",
   "execution_count": 3,
   "metadata": {},
   "outputs": [
    {
     "data": {
      "text/plain": [
       "array([[6.3200e-03, 1.8000e+01, 2.3100e+00, ..., 1.5300e+01, 3.9690e+02,\n",
       "        4.9800e+00],\n",
       "       [2.7310e-02, 0.0000e+00, 7.0700e+00, ..., 1.7800e+01, 3.9690e+02,\n",
       "        9.1400e+00],\n",
       "       [2.7290e-02, 0.0000e+00, 7.0700e+00, ..., 1.7800e+01, 3.9283e+02,\n",
       "        4.0300e+00],\n",
       "       ...,\n",
       "       [6.0760e-02, 0.0000e+00, 1.1930e+01, ..., 2.1000e+01, 3.9690e+02,\n",
       "        5.6400e+00],\n",
       "       [1.0959e-01, 0.0000e+00, 1.1930e+01, ..., 2.1000e+01, 3.9345e+02,\n",
       "        6.4800e+00],\n",
       "       [4.7410e-02, 0.0000e+00, 1.1930e+01, ..., 2.1000e+01, 3.9690e+02,\n",
       "        7.8800e+00]])"
      ]
     },
     "execution_count": 3,
     "metadata": {},
     "output_type": "execute_result"
    }
   ],
   "source": [
    "from sklearn.datasets import load_boston\n",
    "bdata = load_boston()\n",
    "bdata['data']"
   ]
  },
  {
   "cell_type": "markdown",
   "metadata": {},
   "source": [
    "The following commands will provide some basic information about the shape of the data:"
   ]
  },
  {
   "cell_type": "code",
   "execution_count": 4,
   "metadata": {},
   "outputs": [
    {
     "name": "stdout",
     "output_type": "stream",
     "text": [
      "dict_keys(['data', 'target', 'feature_names', 'DESCR', 'filename'])\n",
      "['CRIM' 'ZN' 'INDUS' 'CHAS' 'NOX' 'RM' 'AGE' 'DIS' 'RAD' 'TAX' 'PTRATIO'\n",
      " 'B' 'LSTAT']\n",
      "(506, 13)\n",
      "(506,)\n",
      ".. _boston_dataset:\n",
      "\n",
      "Boston house prices dataset\n",
      "---------------------------\n",
      "\n",
      "**Data Set Characteristics:**  \n",
      "\n",
      "    :Number of Instances: 506 \n",
      "\n",
      "    :Number of Attributes: 13 numeric/categorical predictive. Median Value (attribute 14) is usually the target.\n",
      "\n",
      "    :Attribute Information (in order):\n",
      "        - CRIM     per capita crime rate by town\n",
      "        - ZN       proportion of residential land zoned for lots over 25,000 sq.ft.\n",
      "        - INDUS    proportion of non-retail business acres per town\n",
      "        - CHAS     Charles River dummy variable (= 1 if tract bounds river; 0 otherwise)\n",
      "        - NOX      nitric oxides concentration (parts per 10 million)\n",
      "        - RM       average number of rooms per dwelling\n",
      "        - AGE      proportion of owner-occupied units built prior to 1940\n",
      "        - DIS      weighted distances to five Boston employment centres\n",
      "        - RAD      index of accessibility to radial highways\n",
      "        - TAX      full-value property-tax rate per $10,000\n",
      "        - PTRATIO  pupil-teacher ratio by town\n",
      "        - B        1000(Bk - 0.63)^2 where Bk is the proportion of blacks by town\n",
      "        - LSTAT    % lower status of the population\n",
      "        - MEDV     Median value of owner-occupied homes in $1000's\n",
      "\n",
      "    :Missing Attribute Values: None\n",
      "\n",
      "    :Creator: Harrison, D. and Rubinfeld, D.L.\n",
      "\n",
      "This is a copy of UCI ML housing dataset.\n",
      "https://archive.ics.uci.edu/ml/machine-learning-databases/housing/\n",
      "\n",
      "\n",
      "This dataset was taken from the StatLib library which is maintained at Carnegie Mellon University.\n",
      "\n",
      "The Boston house-price data of Harrison, D. and Rubinfeld, D.L. 'Hedonic\n",
      "prices and the demand for clean air', J. Environ. Economics & Management,\n",
      "vol.5, 81-102, 1978.   Used in Belsley, Kuh & Welsch, 'Regression diagnostics\n",
      "...', Wiley, 1980.   N.B. Various transformations are used in the table on\n",
      "pages 244-261 of the latter.\n",
      "\n",
      "The Boston house-price data has been used in many machine learning papers that address regression\n",
      "problems.   \n",
      "     \n",
      ".. topic:: References\n",
      "\n",
      "   - Belsley, Kuh & Welsch, 'Regression diagnostics: Identifying Influential Data and Sources of Collinearity', Wiley, 1980. 244-261.\n",
      "   - Quinlan,R. (1993). Combining Instance-Based and Model-Based Learning. In Proceedings on the Tenth International Conference of Machine Learning, 236-243, University of Massachusetts, Amherst. Morgan Kaufmann.\n",
      "\n"
     ]
    }
   ],
   "source": [
    "print(bdata.keys())\n",
    "print(bdata.feature_names)\n",
    "print(bdata.data.shape)\n",
    "print(bdata.target.shape)\n",
    "# uncomment the following if you want to see a lengthy description of the dataset\n",
    "print(bdata.DESCR)"
   ]
  },
  {
   "cell_type": "markdown",
   "metadata": {},
   "source": [
    "---\n",
    "\n",
    "##Part 1: Descriptive analysis\n",
    "\n",
    "Before beginning the \"real\" work, dig into the data a bit do see what you're dealing with.  If you feel that you are still in the beginning stages of analyzing data in Python, no problem. That is understandable. Just make sure to read some of the online resources like [this one](https://github.com/jrjohansson/scientific-python-lectures).\n",
    "\n",
    "###1.1: Histogram of housing prices\n",
    "\n",
    "Below you will find some very basic code to make a very basic histogram of median housing prices (the \"target\" variable) for your dataset.  Your first task is to make this graph look pretty by doing the following:\n",
    "\n",
    "1. Add appropriate labels to the x and y axes, make sure to include units\n",
    "2. Change the bin width on the histogram to be $1000\n",
    "3. Remove the axes on the top and right side of the plot window\n",
    "4. Change the color of the bars to be green, and remove the black borders from the bars\n"
   ]
  },
  {
   "cell_type": "code",
   "execution_count": 9,
   "metadata": {},
   "outputs": [
    {
     "data": {
      "image/png": "[encoded data removed]",
      "text/plain": [
       "<Figure size 432x288 with 1 Axes>"
      ]
     },
     "metadata": {
      "needs_background": "light"
     },
     "output_type": "display_data"
    }
   ],
   "source": [
    "# prepare your jupyter notebook to work with matplotlib and import the library to something convenient\n",
    "%matplotlib inline  \n",
    "import matplotlib.pyplot as plt  \n",
    "\n",
    "# edit the code below to make the graph look good\n",
    "ax = plt.subplot(111)\n",
    "ax.hist(bdata.target, color=\"green\", lw=0, bins=range(0, 50, 1)) # setting bin width to $1000 and colour to green\n",
    "plt.xlabel('Median Housing Prices in $1000', size = 12)\n",
    "plt.ylabel('Total number of Houses', size = 12)\n",
    "plt.title('Histogram of Median House Prices')\n",
    "\n",
    "# Remove the axes on the top and right side of the plot window\n",
    "ax.spines['right'].set_visible(False)\n",
    "ax.spines['top'].set_visible(False)"
   ]
  },
  {
   "cell_type": "markdown",
   "metadata": {},
   "source": [
    "### 1.2: Scatter plot of housing prices and crime\n",
    "\n",
    "Use matplotlib to create a scatter plot that shows the relationship between the median value of the home (y-axis) and the per-capita crime rate (x-axis).  Properly label your axes, and make sure that your graphic looks polished and professional.\n"
   ]
  },
  {
   "cell_type": "code",
   "execution_count": 10,
   "metadata": {},
   "outputs": [
    {
     "name": "stdout",
     "output_type": "stream",
     "text": [
      "      CRIM    ZN  INDUS  CHAS    NOX     RM   AGE     DIS  RAD    TAX  \\\n",
      "0  0.00632  18.0   2.31   0.0  0.538  6.575  65.2  4.0900  1.0  296.0   \n",
      "1  0.02731   0.0   7.07   0.0  0.469  6.421  78.9  4.9671  2.0  242.0   \n",
      "2  0.02729   0.0   7.07   0.0  0.469  7.185  61.1  4.9671  2.0  242.0   \n",
      "3  0.03237   0.0   2.18   0.0  0.458  6.998  45.8  6.0622  3.0  222.0   \n",
      "4  0.06905   0.0   2.18   0.0  0.458  7.147  54.2  6.0622  3.0  222.0   \n",
      "\n",
      "   PTRATIO       B  LSTAT  PRICE  \n",
      "0     15.3  396.90   4.98   24.0  \n",
      "1     17.8  396.90   9.14   21.6  \n",
      "2     17.8  392.83   4.03   34.7  \n",
      "3     18.7  394.63   2.94   33.4  \n",
      "4     18.7  396.90   5.33   36.2  \n"
     ]
    }
   ],
   "source": [
    "# convert the dataset into a data frame for easier understanding\n",
    "\n",
    "df_boston = pd.DataFrame(bdata.data)\n",
    "\n",
    "df_boston.columns = bdata.feature_names # populate column names from feature_names for the dataset\n",
    "\n",
    "df_boston['PRICE'] = bdata.target # append the target i.e. the dependant variable to the data frame\n",
    "print(df_boston.head())"
   ]
  },
  {
   "cell_type": "code",
   "execution_count": 13,
   "metadata": {},
   "outputs": [
    {
     "data": {
      "image/png": "[encoded data removed]",
      "text/plain": [
       "<Figure size 432x288 with 1 Axes>"
      ]
     },
     "metadata": {
      "needs_background": "light"
     },
     "output_type": "display_data"
    }
   ],
   "source": [
    "x = df_boston['CRIM']\n",
    "y = df_boston['PRICE']\n",
    "\n",
    "plt.scatter(x, y)\n",
    "plt.xlabel('Per-Capita Crime Rate per town', size = 12)\n",
    "plt.ylabel('Median Value of the Home', size = 12)\n",
    "plt.title('Scatter Plot of Crime Rate vs Median Value of Homes')\n",
    "\n",
    "plt.show()"
   ]
  },
  {
   "cell_type": "markdown",
   "metadata": {},
   "source": [
    "Here we can see that median value of houses is clearly higher for homes with low per-capita crime rate."
   ]
  },
  {
   "cell_type": "markdown",
   "metadata": {},
   "source": [
    "### 1.3 Create your own (creative and effective) visualization\n",
    "\n",
    "Use another type of graph or chart to illustrate an interesting pattern in the data.  Be creative in your visualization, and make sure to produce a \"publication-quality\" graph.  Points will be given for useful and creative graphs; points will be deducted for confusing issues like unlabeled axes.  If you're new to data visualization, [this guide](http://pubs.aeaweb.org/doi/pdfplus/10.1257/jep.28.1.209) is a good place to start."
   ]
  },
  {
   "cell_type": "code",
   "execution_count": 14,
   "metadata": {},
   "outputs": [
    {
     "data": {
      "image/png": "[encoded data removed]",
      "text/plain": [
       "<Figure size 432x288 with 1 Axes>"
      ]
     },
     "metadata": {
      "needs_background": "light"
     },
     "output_type": "display_data"
    }
   ],
   "source": [
    "x = df_boston['INDUS']\n",
    "y = df_boston['NOX']\n",
    "\n",
    "\n",
    "ax = plt.subplot(111)\n",
    "ax.scatter(x, y)\n",
    "plt.xlabel('proportion of non-retail business acres per town', size = 12)\n",
    "plt.ylabel('nitric oxides concentration', size = 12)\n",
    "plt.title('Relationship between NO Concentration and non-retail business acres per town')\n",
    "# Remove the axes on the top and right side of the plot window\n",
    "ax.spines['right'].set_visible(False)\n",
    "ax.spines['top'].set_visible(False)\n",
    "plt.show()"
   ]
  },
  {
   "cell_type": "markdown",
   "metadata": {},
   "source": [
    "---\n",
    "\n",
    "##Part 2: Experimental Setup\n",
    "\n",
    "The goal of the next few sections is to design an experiment to predict the median home value for an instance in the data.\n",
    "\n",
    "###2.1 Begin by writing a function to compute the Root Mean Squared Error for a list of numbers\n",
    "\n",
    "You can find the sqrt function in the Numpy package. Furthermore the details of RMSE can be found on [Wikipedia](http://en.wikipedia.org/wiki/Root-mean-square_deviation)\n",
    "\n"
   ]
  },
  {
   "cell_type": "code",
   "execution_count": 15,
   "metadata": {},
   "outputs": [],
   "source": [
    "\"\"\"\n",
    "Function\n",
    "--------\n",
    "compute_rmse\n",
    "\n",
    "Given two arrays, one of actual values and one of predicted values,\n",
    "compute the Root Mean Squared Error\n",
    "\n",
    "Parameters\n",
    "----------\n",
    "predictions : array\n",
    "    Array of numerical values corresponding to predictions for each of the N observations\n",
    "\n",
    "yvalues : array\n",
    "    Array of numerical values corresponding to the actual values for each of the N observations\n",
    "\n",
    "Returns\n",
    "-------\n",
    "rmse : int\n",
    "    Root Mean Squared Error of the prediction\n",
    "\n",
    "Example\n",
    "-------\n",
    ">>> print compute_rmse((2,2,3),(0,2,6)\n",
    "2.16\n",
    "\"\"\"\n",
    "def compute_rmse(predictions, yvalues):\n",
    "    #print(\"type_predictions: \",type(predictions))\n",
    "    #print(\"type_yvalues: \",type(yvalues))\n",
    "    err = 0\n",
    "    rmse = 0\n",
    "    for i in range(0,len(predictions)):\n",
    "        err+=(predictions[i]-yvalues[i])**2\n",
    "    rmse = err/(2*len(predictions)) # formula as discussed in class during the gradient descent lecture\n",
    "    return rmse"
   ]
  },
  {
   "cell_type": "code",
   "execution_count": 16,
   "metadata": {},
   "outputs": [
    {
     "data": {
      "text/plain": [
       "2.1666666666666665"
      ]
     },
     "execution_count": 16,
     "metadata": {},
     "output_type": "execute_result"
    }
   ],
   "source": [
    "# test code\n",
    "compute_rmse((2,2,3),(0,2,6))"
   ]
  },
  {
   "cell_type": "markdown",
   "metadata": {},
   "source": [
    "### 2.2 Divide your data into training and testing datasets\n",
    "\n",
    "Randomly select 66% of the data and put this in a training dataset (call this \"bdata_train\"), and place the remaining 34% in a testing dataset (call this \"bdata_test\")\n"
   ]
  },
  {
   "cell_type": "code",
   "execution_count": 50,
   "metadata": {},
   "outputs": [
    {
     "name": "stdout",
     "output_type": "stream",
     "text": [
      "   PRICE\n",
      "0   24.0\n",
      "1   21.6\n",
      "2   34.7\n",
      "3   33.4\n",
      "4   36.2\n",
      "Test Data Set: \n",
      "     PRICE      RAND  TRAINING\n",
      "1    21.6  0.673067     False\n",
      "3    33.4  0.791315     False\n",
      "13   20.4  0.979030     False\n",
      "14   18.2  0.810673     False\n",
      "15   19.9  0.929175     False\n",
      "Training Data Set: \n",
      "    PRICE      RAND  TRAINING\n",
      "0   24.0  0.005526      True\n",
      "2   34.7  0.469445      True\n",
      "4   36.2  0.633888      True\n",
      "5   28.7  0.152115      True\n",
      "6   22.9  0.247170      True\n",
      "Test length = 169\n",
      "Train length = 337\n"
     ]
    }
   ],
   "source": [
    "# leave the following line untouched, it will help ensure that your \"random\" split \n",
    "# is the same \"random\" split used by the rest of the class\n",
    "np.random.seed(seed=13579)\n",
    "\n",
    "\n",
    "house_price = pd.DataFrame(df_boston['PRICE'],columns=['PRICE'])\n",
    "print(house_price.head())\n",
    "\n",
    "house_price['RAND'] = house_price.apply(lambda row: random.random(), axis=1) # add new column\n",
    "house_price['TRAINING'] = (house_price['RAND']<=0.6666) # create flag column for values\n",
    "bdata_train=house_price[house_price.TRAINING==True]\n",
    "bdata_test=house_price[house_price.TRAINING==False]\n",
    "\n",
    "print(\"Test Data Set: \\n\",bdata_test.head())\n",
    "print(\"Training Data Set: \\n\",bdata_train.head())\n",
    "print(\"Test length =\",len(bdata_test))\n",
    "print(\"Train length =\",len(bdata_train))"
   ]
  },
  {
   "cell_type": "markdown",
   "metadata": {},
   "source": [
    "### 2.3 Use a very bad baseline for prediction, and compute RMSE\n",
    "\n",
    "Create a model that predicts, for every observation x_i, that the median home value is the average (mean) of the median values for all instances in the training set.  Compute the RMSE on the training set.  Now compute the RMSE on the test data set (but use the model you trained on the training set!).  How does RMSE compare for training vs. testing datasets? Is this what you expected, and why?"
   ]
  },
  {
   "cell_type": "code",
   "execution_count": 51,
   "metadata": {},
   "outputs": [
    {
     "name": "stdout",
     "output_type": "stream",
     "text": [
      "Mean value of meadian home prices:  22.632640949554908\n",
      "Training size:  331\n",
      "Training elements: \n",
      " [21.934138972809663, 21.934138972809663, 21.934138972809663, 21.934138972809663, 21.934138972809663, 21.934138972809663, 21.934138972809663, 21.934138972809663, 21.934138972809663, 21.934138972809663]\n",
      "Test set size : 175\n",
      "Test Set Elements: \n",
      " [21.934138972809663, 21.934138972809663, 21.934138972809663, 21.934138972809663, 21.934138972809663, 21.934138972809663, 21.934138972809663, 21.934138972809663, 21.934138972809663, 21.934138972809663]\n"
     ]
    }
   ],
   "source": [
    "# enter your# Calculate the mean of all median values in the training set\n",
    "# This will be used to calculate the rmse for training and test sets\n",
    "\n",
    "mean_y_train = bdata_train['PRICE'].mean() # mean of median house prices for training set for average value Baseline\n",
    "print(\"Mean value of meadian home prices: \", mean_y_train)\n",
    "\n",
    "# create empty list to hold mean values of Y of the training set\n",
    "# This will be used to calculate training RMSE function that we defined above\n",
    "y_train_list = [] \n",
    "for i in range(0,len(bdata_train)):\n",
    "    y_train_list.append(mean_y_train)\n",
    "\n",
    "print(\"Training size: \",len(y_mean_train_list)) # check if the list is populated correctly\n",
    "print(\"Training elements: \\n\",y_mean_train_list[0:10])\n",
    "# list to calculate test RMSE\n",
    "y_test_list = []\n",
    "for i in range(0,len(bdata_test)):\n",
    "    y_test_list.append(mean_y_train)\n",
    "    \n",
    "print(\"Test set size :\",len(y_mean_test_list)) # check if list was populated correctly code here\n",
    "print(\"Test Set Elements: \\n\",y_mean_test_list[0:10])"
   ]
  },
  {
   "cell_type": "code",
   "execution_count": 52,
   "metadata": {},
   "outputs": [
    {
     "name": "stdout",
     "output_type": "stream",
     "text": [
      "Training RMSE:  44.34917054830102\n",
      "Test RMSE:  37.95857320532035\n",
      "Delta:  6.390597342980669\n"
     ]
    }
   ],
   "source": [
    "# Calculate RMSE for both training and test sets:\n",
    "\n",
    "# RMSE of training set\n",
    "training_rmse = compute_rmse(list(bdata_train['PRICE']),list(y_train_list))\n",
    "print(\"Training RMSE: \",training_rmse)\n",
    "test_rmse = compute_rmse(list(bdata_test['PRICE']),list(y_test_list))\n",
    "print(\"Test RMSE: \",test_rmse)\n",
    "\n",
    "delta_rmse = np.abs(test_rmse - training_rmse)\n",
    "print(\"Delta: \",delta_rmse)"
   ]
  },
  {
   "cell_type": "markdown",
   "metadata": {},
   "source": [
    "##### *This is expected as this is not the most ideal/accurate approach. We were using the mean of the median values to model and compute RMSE. This will not give us an accurate result as this is the most brute force approach to check. We need a better model for predicting.*"
   ]
  },
  {
   "cell_type": "markdown",
   "metadata": {},
   "source": [
    "---\n",
    "\n",
    "##Part 3: Nearest Neighbors\n"
   ]
  },
  {
   "cell_type": "markdown",
   "metadata": {},
   "source": [
    "###3.1 Nearest Neighbors: Distance function\n",
    "Let's try and build a machine learning algorithm to beat the \"Average Value\" baseline that you computed above.  Soon you will implement the Nearest Neighbor algorithm, but first you need to create a distance metric to measure the distance (and similarity) between two instances.  Write a generic function to compute the L-Norm distance (called the [*p*-norm](http://en.wikipedia.org/wiki/Norm_(mathematics) distance on Wikipedia). Verify that your function works by computing the Euclidean distance between the points (3,4) and (6,8)."
   ]
  },
  {
   "cell_type": "code",
   "execution_count": 34,
   "metadata": {},
   "outputs": [],
   "source": [
    "\"\"\"\n",
    "Function\n",
    "--------\n",
    "distance\n",
    "\n",
    "Given two instances and a value for L, return the L-Norm distance between them\n",
    "\n",
    "Parameter\n",
    "----------\n",
    "x1, x2 : array\n",
    "    Array of numerical values corresponding to predictions for each of the N observations\n",
    "\n",
    "L: int\n",
    "    Value of L to use in computing distances\n",
    "\n",
    "Returns\n",
    "-------\n",
    "dist : int\n",
    "    The L-norm distance between instances\n",
    "\n",
    "Example\n",
    "-------\n",
    ">>> print distance((3,4),(6,8),2)\n",
    "7\n",
    "\n",
    "\"\"\"\n",
    "\"\"\"\n",
    "# Euclidean distance : \n",
    "def distance(x1, x2, L):\n",
    "    temp = 0\n",
    "    for i in range(0,L):\n",
    "        temp+=(x1[i]-x2[i])**2 \n",
    "    dist = np.sqrt(temp)\n",
    "    return dist\n",
    "\"\"\"\n",
    "def distance(x1, x2, L):\n",
    "    dist = np.linalg.norm(np.array(x1)-np.array(x2), ord=(L-1))\n",
    "    return dist"
   ]
  },
  {
   "cell_type": "code",
   "execution_count": 35,
   "metadata": {},
   "outputs": [
    {
     "data": {
      "text/plain": [
       "7.0"
      ]
     },
     "execution_count": 35,
     "metadata": {},
     "output_type": "execute_result"
    }
   ],
   "source": [
    "# test it\n",
    "\n",
    "distance((3,4),(6,8),2)"
   ]
  },
  {
   "cell_type": "markdown",
   "metadata": {},
   "source": [
    "### 3.2 Basic Nearest Neighbor algorithm\n",
    "\n",
    "Now things get fun.  Your task is to implement a basic nearest neighbor algorithm from scratch.  Your simple model will use two input features (CRIM and RM) and a single output (MEDV).  In other words, you are modelling the relationship between median home value and crime rates and house size.\n",
    "\n",
    "Use your training data (bdata_train) to \"fit\" your model, although as you know, with Nearest Neighbors there is no real training, you just need to keep your training data in memory.  Write a function that predicts, for each instance in the testing data (bdata_test), the median home value using the nearest neighbor algorithm we discussed in class.  Since this is a small dataset, you can simply compare your test instance to every instance in the training set, and return the MEDV value of the closest training instance.  Have your function take L as an input, where L is passed to the distance function.\n",
    "\n",
    "Compute the RMSE for the Nearest Neighbor predictions on the test set, using the Euclidean distance.  Report an estimate of the total time taken by your code to predict the nearest neighbors for all the values in the test data set."
   ]
  },
  {
   "cell_type": "code",
   "execution_count": 90,
   "metadata": {},
   "outputs": [],
   "source": [
    "# 1 nearest neighbor function\n",
    "import time\n",
    "def nneighbor(feature_list, X_train, y_train, X_test, y_test, L):\n",
    "    start_time = time.time()\n",
    "    #your code here\n",
    "    column_mappings = {feature:id for id, feature in enumerate(bdata.feature_names)} \n",
    "    feature_id_list = [column_mappings[feature] for feature in feature_list] \n",
    "    test_predict = []\n",
    "    for test_instance in X_test[:,feature_id_list]:\n",
    "        dist_train_data = []\n",
    "        for train_instance in X_train[:,feature_id_list]:\n",
    "            dist_train_data.append(distance(test_instance, train_instance, L))\n",
    "        test_predict_id = dist_train_data.index(min(dist_train_data)) # getting ID of minimum distance\n",
    "        test_predict.append(y_train[test_predict_id]) # appending the price for ID with min distance\n",
    "    #print(test_predict[0:10])\n",
    "    #print(y_test[0:10])\n",
    "    rmse = compute_rmse(test_predict,list(y_test))\n",
    "    print(\"Time taken: \" + str(round(time.time() - start_time,2)) + \" seconds\")\n",
    "    return(rmse)"
   ]
  },
  {
   "cell_type": "code",
   "execution_count": 91,
   "metadata": {},
   "outputs": [],
   "source": [
    "# Splitting randomly into training and test\n",
    "\n",
    "np.random.seed(seed=13577)\n",
    "num_instances=506\n",
    "rand = np.random.permutation(num_instances)\n",
    "train_id = rand[0:int(round(num_instances*0.6666,0))] #generate random list of IDs\n",
    "test_id = rand[int(round(num_instances*0.6666,0)):]\n",
    "\n",
    "#populate the X and y training variables\n",
    "X_train = bdata.data[train_id,:]\n",
    "y_train = bdata.target[train_id]\n",
    "\n",
    "# populate the X and y testing variables\n",
    "X_test= bdata.data[test_id,:]\n",
    "y_test = bdata.target[test_id]"
   ]
  },
  {
   "cell_type": "code",
   "execution_count": 92,
   "metadata": {},
   "outputs": [
    {
     "name": "stdout",
     "output_type": "stream",
     "text": [
      "Time taken: 0.32 seconds\n",
      "RMSE for 1 nearest neighbor = 28.791301775147932\n"
     ]
    }
   ],
   "source": [
    "feature_list = ['CRIM','RM']\n",
    "rmse = nneighbor(feature_list, X_train,y_train, X_test,y_test,2)\n",
    "print(\"RMSE for 1 nearest neighbor =\",rmse)"
   ]
  },
  {
   "cell_type": "markdown",
   "metadata": {},
   "source": [
    "##### We can see that the RMSE has considerable decreased by using the 1 nearest neighbor model!"
   ]
  },
  {
   "cell_type": "markdown",
   "metadata": {},
   "source": [
    "###3.3 Results and Normalization\n",
    "\n",
    "If you were being astute, you would have noticed that we never normalized our features -- a big no-no with Nearest Neighbor algorithms.  Write a generic normalization function that takes as input an array of values for a given feature, and returns the normalized array (subtract the mean and divide by the standard deviation).\n",
    "\n",
    "Re-run the Nearest Neighbor algorithm on the normalized dataset (still just using CRIM and RM as input), and compare the RMSE from this method with your previous RMSE evaluations.\n",
    "\n",
    "*NOTE*: To normalize properly, best practice is to compute the mean and standard deviation on the training set, and use these values to normalize the testing dataset. However, for this problem set, it is okay if you separately normalize each dataset using the respective mean and standard deviation."
   ]
  },
  {
   "cell_type": "code",
   "execution_count": 93,
   "metadata": {},
   "outputs": [],
   "source": [
    "\"\"\"\n",
    "# write your function specification here!\n",
    "\"\"\"\n",
    "# Function to normalize data\n",
    "def normalize(data):\n",
    "    #your code here\n",
    "    mean = data.mean(axis=0) \n",
    "    sd = data.std(axis=0) \n",
    "    normalized_data = (data - mean)/sd\n",
    "    return normalized_data"
   ]
  },
  {
   "cell_type": "code",
   "execution_count": 95,
   "metadata": {},
   "outputs": [
    {
     "name": "stdout",
     "output_type": "stream",
     "text": [
      "Time taken: 0.31 seconds\n",
      "RMSE after normalizing = 28.099230769230772\n"
     ]
    }
   ],
   "source": [
    "# Normalizing data\n",
    "normalized_X_train = normalize(X_train)\n",
    "normalized_X_test = normalize(X_test)\n",
    "\n",
    "# RMSE calculations on normalized data\n",
    "# INPUT: nneighbor(feature_list, X_train, y_train, X_test, y_test, L):\n",
    "rmse1 = nneighbor(['CRIM','RM'], normalized_X_train, y_train, normalized_X_test, y_test, 2)\n",
    "print(\"RMSE after normalizing =\",rmse1)\n",
    "#your additional code here"
   ]
  },
  {
   "cell_type": "markdown",
   "metadata": {},
   "source": [
    "We can see that the RMSE has slightly decreased by using the normalized values!"
   ]
  },
  {
   "cell_type": "markdown",
   "metadata": {},
   "source": [
    "### 3.4 Optimization\n",
    "\n",
    "A lot of the decisions we've made so far have been arbitrary.  Try to increase the performance of your nearest neighbor algorithm by adding features that you think might be relevant, and by using different values of L in the distance function.  Try a model that uses a different set of 2 features, then try at least one model that uses more than 4 features, then try using a different value of L.  If you're having fun, try a few different combinations of features and L!\n",
    "\n",
    "What combination of features and distance function provide the lowest RMSE?  Do your decisions affect the running time of the algorithm?"
   ]
  },
  {
   "cell_type": "code",
   "execution_count": 96,
   "metadata": {},
   "outputs": [
    {
     "data": {
      "text/plain": [
       "Index(['CRIM', 'ZN', 'INDUS', 'CHAS', 'NOX', 'RM', 'AGE', 'DIS', 'RAD', 'TAX',\n",
       "       'PTRATIO', 'B', 'LSTAT', 'PRICE'],\n",
       "      dtype='object')"
      ]
     },
     "execution_count": 96,
     "metadata": {},
     "output_type": "execute_result"
    }
   ],
   "source": [
    "df_boston.columns"
   ]
  },
  {
   "cell_type": "code",
   "execution_count": 108,
   "metadata": {},
   "outputs": [
    {
     "name": "stdout",
     "output_type": "stream",
     "text": [
      "Time taken: 0.33 seconds\n",
      "RMSE after normalizing = 29.426183431952666\n",
      "Time taken: 0.32 seconds\n",
      "RMSE after normalizing = 33.328402366863905\n",
      "Time taken: 0.33 seconds\n",
      "RMSE after normalizing = 32.93754437869823\n",
      "Time taken: 0.32 seconds\n",
      "RMSE after normalizing = 35.14210059171598\n",
      "Time taken: 0.31 seconds\n",
      "RMSE after normalizing = 11.880207100591711\n"
     ]
    }
   ],
   "source": [
    "rmse1 = nneighbor(['AGE','RM'], normalized_X_train, y_train, normalized_X_test, y_test, 2)\n",
    "print(\"RMSE after normalizing =\",rmse1)\n",
    "\n",
    "rmse2 = nneighbor(['NOX','RM'], normalized_X_train, y_train, normalized_X_test, y_test, 2)\n",
    "print(\"RMSE after normalizing =\",rmse2)\n",
    "\n",
    "rmse3 = nneighbor(['CRIM','RM','NOX'], normalized_X_train, y_train, normalized_X_test, y_test, 3)\n",
    "print(\"RMSE after normalizing =\",rmse3)\n",
    "\n",
    "rmse4 = nneighbor(['CRIM','RM','AGE','TAX'], normalized_X_train, y_train, normalized_X_test, y_test, 2)\n",
    "print(\"RMSE after normalizing =\",rmse4)\n",
    "\n",
    "rmse5 = nneighbor(['LSTAT','RM','AGE','TAX'], normalized_X_train, y_train, normalized_X_test, y_test, 2)\n",
    "print(\"RMSE after normalizing =\",rmse5)\n",
    "#your additional code here"
   ]
  },
  {
   "cell_type": "markdown",
   "metadata": {},
   "source": [
    "We are getting the lowest value for variables ['LSTAT','RM','AGE','TAX'] and L=2"
   ]
  },
  {
   "cell_type": "markdown",
   "metadata": {},
   "source": [
    "### 3.5 Cross-Validation\n",
    "\n",
    "The more you tinkered with your features and distance function, the higher the risk that you overfit your training data.  To prevent this sort of overfitting, you need to use cross-validation (see K-fold [cross-validation](http://en.wikipedia.org/wiki/Cross-validation_(statistics)).  Here you must implement a simple k-fold cross-validation algorithm yourself.  The function you write here will be used several more times in this problem set, so do your best to write efficient code! (Note that the sklearn package has a built-in [K-fold](http://scikit-learn.org/stable/modules/cross_validation.html#cross-validation) iterator -- you should *not* be invoking that or any related algorithms in this section of the problem set.)\n",
    "\n",
    "Use 10-fold cross-validation and report the average RMSE for Nearest Neighbors using Euclidean distance with CRIM and RM input features, as well as the total running time for the full run of 10 folds.  In other words, randomly divide your dataset into 10 equally-sized samples, and for each of 10 iterations (the \"folds\"), use 9 samples as \"training data\" (even though there is no training in k-NN!), and the remaining 1 sample for testing.  Compute the RMSE of that particular test set, then move on to the next iteration.  Report the average RMSE across the 10 iterations."
   ]
  },
  {
   "cell_type": "code",
   "execution_count": 118,
   "metadata": {},
   "outputs": [
    {
     "name": "stdout",
     "output_type": "stream",
     "text": [
      "Time taken: 0.07 seconds\n",
      "Time taken: 0.05 seconds\n",
      "Time taken: 0.06 seconds\n",
      "Time taken: 0.06 seconds\n",
      "Time taken: 0.07 seconds\n",
      "Time taken: 0.05 seconds\n",
      "Time taken: 0.05 seconds\n",
      "Time taken: 0.08 seconds\n",
      "Time taken: 0.06 seconds\n",
      "Time taken: 0.05 seconds\n",
      "Mean RMSE for 10 fold cross validation = 28.571812217734937\n"
     ]
    }
   ],
   "source": [
    "# Functions to calculate KNN using k, number of k-folds for cross-validation.\n",
    "\n",
    "def split_indices_cv(k, num_sample):\n",
    "    rem = num_sample\n",
    "    indices = np.random.permutation(num_sample) # Create random numbers\n",
    "    pointer = 0\n",
    "    split_index = []\n",
    "    for i in reversed(range(1, k+1)):\n",
    "        cut_size = round(rem/i)\n",
    "        train_indices = indices[pointer:pointer+cut_size]\n",
    "        val_indices = np.append(indices[:pointer],indices[pointer+cut_size:])\n",
    "        rem = rem - cut_size\n",
    "        pointer = pointer + cut_size\n",
    "        split_index.append((train_indices, val_indices)) \n",
    "    return split_index\n",
    "\n",
    "def k_fold_cross_validatation(feature_list, k, data, target, L):\n",
    "    num_sample = data.shape[0]\n",
    "    split_index = split_indices_cv(k, num_sample)\n",
    "    rmse_sum = 0\n",
    "    for train_i, test_i in split_index:\n",
    "        test_data = normalize(data[test_i]) # normalize the test data\n",
    "        train_data = normalize(data[train_i]) # Normalize the training data \n",
    "        train_target = target[train_i] # copy each row from train to the cross validated Dataset\n",
    "        test_target = target[test_i] # copy each row from test to the cross validate dataset\n",
    "        # nneighbor(feature_list, X_train, y_train, X_test, y_test, L):\n",
    "        rmse = nneighbor(feature_list, train_data, train_target, test_data, test_target, L) # calculate the distance function\n",
    "        rmse_sum += rmse # sum up the RMSE after each iteration to calculate the average\n",
    "    result = rmse_sum/k # calculate the average RMSE\n",
    "    return result\n",
    "\n",
    "print(\"Mean RMSE for 10 fold cross validation =\",k_fold_cross_validatation(['CRIM','RM'], 10, X_train, y_train, 2))"
   ]
  },
  {
   "cell_type": "markdown",
   "metadata": {},
   "source": [
    "### 3.6 K-Nearest Neighbors Algorithm\n",
    "\n",
    "Implement the K-Nearest Neighbors algorithm.  Using 10-fold cross validation, report the RMSE for K=3 and the running time of the algorithm."
   ]
  },
  {
   "cell_type": "code",
   "execution_count": 144,
   "metadata": {},
   "outputs": [
    {
     "name": "stderr",
     "output_type": "stream",
     "text": [
      "C:\\Users\\ashwi\\Anaconda3\\lib\\site-packages\\ipykernel_launcher.py:9: RuntimeWarning: invalid value encountered in true_divide\n",
      "  if __name__ == '__main__':\n"
     ]
    },
    {
     "data": {
      "text/plain": [
       "51.213142736220576"
      ]
     },
     "execution_count": 144,
     "metadata": {},
     "output_type": "execute_result"
    }
   ],
   "source": [
    "# K nearest neighbor function\n",
    "import time\n",
    "def KNN(K, feature_list, X_train, y_train, X_test, y_test, L):\n",
    "    #your code here\n",
    "    column_mappings = {feature:id for id, feature in enumerate(bdata.feature_names)} \n",
    "    feature_id_list = [column_mappings[feature] for feature in feature_list] \n",
    "    test_predict = []\n",
    "    for test_instance in X_test[:,feature_id_list]:\n",
    "        dist_train_data = []\n",
    "        for train_instance in X_train[:,feature_id_list]:\n",
    "            dist_train_data.append(distance(test_instance, train_instance, L))\n",
    "        test_predict_id = sorted(range(len(dist_train_data)), key=lambda i: dist_train_data[i])[:K] # getting ID of K-minimum distance\n",
    "        test_predict.append(y_train[test_predict_id].mean()) # appending mean price for IDs with K-min distances\n",
    "\n",
    "    rmse = compute_rmse(test_predict,list(y_test)) # calculate RMSE\n",
    "    return(rmse)\n",
    "\n",
    "# Cross validate the KNN\n",
    "\n",
    "def KNN_cross_validatation(folds, feature_list, K, data, target, L):\n",
    "    num_sample = data.shape[0]\n",
    "    split_index = split_indices_cv(folds, num_sample)\n",
    "    rmse_sum = 0\n",
    "    for train_i, test_i in split_index:\n",
    "        test_data = normalize(data[test_i]) # normalize the test data\n",
    "        train_data = normalize(data[train_i]) # Normalize the training data \n",
    "        train_target = target[train_i] # copy each row from train to the cross validated Dataset\n",
    "        test_target = target[test_i] # copy each row from test to the cross validate dataset\n",
    "        # KNN(K, feature_list, X_train, y_train, X_test, y_test, L)\n",
    "        rmse = KNN(K, feature_list, train_data, train_target, test_data, test_target, L) # calculate the distance function\n",
    "        rmse_sum += rmse # sum up the RMSE after each iteration to calculate the average\n",
    "    result = rmse_sum/folds # calculate the average RMSE\n",
    "    return result\n",
    "\n",
    "KNN_cross_validatation(10, ['CRIM','AGE'],4 ,X_train,y_train,2)"
   ]
  },
  {
   "cell_type": "markdown",
   "metadata": {},
   "source": [
    "### 3.7 Using cross validation to find K\n",
    "\n",
    "What is the best choice of K?  Compute the RMSE for values of K between 1 and 25 using 10-fold cross-validation.  Use the following features in your model, and don't forget to normalize: CRIM, ZN, RM, AGE, DIS, TAX.  Create a graph that shows how RMSE changes as K increases from 1 to 25.  Label your axes, and summarize what you see.  What do you think is a reasonable choice of K for this model?"
   ]
  },
  {
   "cell_type": "code",
   "execution_count": 145,
   "metadata": {},
   "outputs": [
    {
     "name": "stderr",
     "output_type": "stream",
     "text": [
      "C:\\Users\\ashwi\\Anaconda3\\lib\\site-packages\\ipykernel_launcher.py:9: RuntimeWarning: invalid value encountered in true_divide\n",
      "  if __name__ == '__main__':\n"
     ]
    },
    {
     "data": {
      "image/png": "[encoded data removed]",
      "text/plain": [
       "<Figure size 432x288 with 1 Axes>"
      ]
     },
     "metadata": {
      "needs_background": "light"
     },
     "output_type": "display_data"
    }
   ],
   "source": [
    "# enter your code here\n",
    "import matplotlib\n",
    "K = [i for i in range(1,25)] # store values from 1 to 25 in K\n",
    "rmse_k = [] # store the different RMSEs so we can plot\n",
    "for i in K:\n",
    "    #rmse_k.append(kf_knn(x_train, y_train, 10, ['CRIM','ZN','RM','AGE','DIS','TAX'],2, i))\n",
    "    rmse_k.append(KNN_cross_validatation(10, ['CRIM','ZN','RM','AGE','DIS','TAX'],i ,X_train,y_train,2))\n",
    "    \n",
    "fig, ax = plt.subplots()\n",
    "ax.scatter(K, rmse_k, color=\"blue\")\n",
    "plt.xlabel('K-Values')\n",
    "plt.ylabel('mean-RMSE of 10 fold cross validation')\n",
    "\n",
    "ax.spines['right'].set_visible(False)\n",
    "ax.spines['top'].set_visible(False)\n",
    "\n",
    "plt.show()"
   ]
  },
  {
   "cell_type": "markdown",
   "metadata": {},
   "source": [
    "Either k=3 or k=6 would be ideal according to the scatter plot as these k-values appear to have lowest mean RMSE for 10 fold cross validation! "
   ]
  }
 ],
 "metadata": {
  "kernelspec": {
   "display_name": "Python 3",
   "language": "python",
   "name": "python3"
  },
  "language_info": {
   "codemirror_mode": {
    "name": "ipython",
    "version": 3
   },
   "file_extension": ".py",
   "mimetype": "text/x-python",
   "name": "python",
   "nbconvert_exporter": "python",
   "pygments_lexer": "ipython3",
   "version": "3.7.1"
  }
 },
 "nbformat": 4,
 "nbformat_minor": 1
}
